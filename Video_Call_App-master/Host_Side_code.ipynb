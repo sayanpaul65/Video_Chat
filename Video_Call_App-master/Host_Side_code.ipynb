{
 "cells": [
  {
   "cell_type": "code",
   "execution_count": 1,
   "metadata": {},
   "outputs": [],
   "source": [
    "# Lets import the libraries\n",
    "import socket, cv2, pickle, struct, imutils ,threading"
   ]
  },
  {
   "cell_type": "code",
   "execution_count": 2,
   "metadata": {},
   "outputs": [],
   "source": [
    "def transmit():\n",
    "    while True:\n",
    "        if client_socket:\n",
    "            url = 'http://192.168.221.209:8080/video' #url given on ip webcam application\n",
    "            vid = cv2.VideoCapture(url)\n",
    "            while(vid.isOpened()):\n",
    "                img,frame = vid.read()\n",
    "                frame = imutils.resize(frame,width=200)\n",
    "                a = pickle.dumps(frame)\n",
    "                message = struct.pack(\"Q\",len(a))+a\n",
    "                client_socket.sendall(message)\n",
    "            \n",
    "                cv2.imshow('TO CLIENT',frame)\n",
    "                key = cv2.waitKey(1) & 0xFF\n",
    "                if key ==ord('q'):\n",
    "                    client_socket.close()\n",
    "                    break\n",
    "    cv2.destroyAllWindows()\n",
    "\n",
    "def recieve(data,payload_size):\n",
    "    while True:\n",
    "        while len(data) < payload_size:\n",
    "            packet = server_socket2.recv(4*1024) \n",
    "            if not packet: break\n",
    "            data+=packet\n",
    "        packed_msg_size = data[:payload_size]\n",
    "        data = data[payload_size:]\n",
    "        msg_size = struct.unpack(\"Q\",packed_msg_size)[0]\n",
    "        while len(data) < msg_size:\n",
    "            data += server_socket2.recv(4*1024)\n",
    "        frame_data = data[:msg_size]\n",
    "        data  = data[msg_size:]\n",
    "        frame = pickle.loads(frame_data)\n",
    "        frame = imutils.resize(frame,width=720)\n",
    "        cv2.imshow(\"FROM CLIENT\",frame)\n",
    "        key = cv2.waitKey(1) & 0xFF\n",
    "        if key  == ord('q'):\n",
    "            break\n",
    "    server_socket2.close()\n",
    "    cv2.destroyAllWindows()"
   ]
  },
  {
   "cell_type": "code",
   "execution_count": 3,
   "metadata": {},
   "outputs": [
    {
     "name": "stdout",
     "output_type": "stream",
     "text": [
      "HOST IP: 192.168.99.1\n"
     ]
    }
   ],
   "source": [
    "# Create Socket\n",
    "server_socket = socket.socket(socket.AF_INET,socket.SOCK_STREAM)\n",
    "host_name  = socket.gethostname()\n",
    "host_ip = socket.gethostbyname(host_name)\n",
    "print('HOST IP:',host_ip)\n",
    "port = 9999\n",
    "socket_address = (host_ip,port)\n",
    "# Socket Bind\n",
    "server_socket.bind(socket_address)"
   ]
  },
  {
   "cell_type": "code",
   "execution_count": 4,
   "metadata": {},
   "outputs": [
    {
     "name": "stdout",
     "output_type": "stream",
     "text": [
      "LISTENING AT: ('192.168.99.1', 9999)\n",
      "GOT CONNECTION FROM: ('192.168.99.1', 64743)\n"
     ]
    }
   ],
   "source": [
    "# Socket Listen and accept\n",
    "server_socket.listen(5)\n",
    "print(\"LISTENING AT:\",socket_address)\n",
    "client_socket,addr = server_socket.accept()\n",
    "print('GOT CONNECTION FROM:',addr)"
   ]
  },
  {
   "cell_type": "code",
   "execution_count": 5,
   "metadata": {},
   "outputs": [],
   "source": [
    "# connecting to linux socket\n",
    "server_socket2 = socket.socket(socket.AF_INET,socket.SOCK_STREAM)\n",
    "host_ip2 = '192.168.99.1' #IP Address of Host to be Entered \n",
    "port2 = 6666\n",
    "server_socket2.connect((host_ip2,port2))"
   ]
  },
  {
   "cell_type": "code",
   "execution_count": 6,
   "metadata": {},
   "outputs": [
    {
     "name": "stderr",
     "output_type": "stream",
     "text": [
      "Exception in thread Thread-6:\n",
      "Traceback (most recent call last):\n",
      "  File \"C:\\Users\\sharm\\anaconda3\\lib\\threading.py\", line 932, in _bootstrap_inner\n",
      "    self.run()\n",
      "  File \"C:\\Users\\sharm\\anaconda3\\lib\\threading.py\", line 870, in run\n",
      "    self._target(*self._args, **self._kwargs)\n",
      "  File \"<ipython-input-2-9166c083c21b>\", line 11, in transmit\n",
      "OSError: [WinError 10038] An operation was attempted on something that is not a socket\n"
     ]
    }
   ],
   "source": [
    "x1=threading.Thread(target=transmit)\n",
    "data = b\"\"\n",
    "payload_size = struct.calcsize(\"Q\")\n",
    "x2=threading.Thread(target=recieve , args=(data , payload_size))\n",
    "x1.start()\n",
    "x2.start()"
   ]
  }
 ],
 "metadata": {
  "kernelspec": {
   "display_name": "Python 3",
   "language": "python",
   "name": "python3"
  },
  "language_info": {
   "codemirror_mode": {
    "name": "ipython",
    "version": 3
   },
   "file_extension": ".py",
   "mimetype": "text/x-python",
   "name": "python",
   "nbconvert_exporter": "python",
   "pygments_lexer": "ipython3",
   "version": "3.8.3"
  }
 },
 "nbformat": 4,
 "nbformat_minor": 4
}
