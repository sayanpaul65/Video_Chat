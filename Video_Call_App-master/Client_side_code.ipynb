{
 "cells": [
  {
   "cell_type": "code",
   "execution_count": 1,
   "metadata": {},
   "outputs": [],
   "source": [
    "# Lets import the libraries\n",
    "import socket, cv2, pickle, struct, imutils ,threading"
   ]
  },
  {
   "cell_type": "code",
   "execution_count": 2,
   "metadata": {},
   "outputs": [],
   "source": [
    "def transmit():\n",
    "    while True:\n",
    "        if wclient_socket:\n",
    "            url = 'http://192.168.221.154:8080/video' #url given on ip webcam application\n",
    "            vid = cv2.VideoCapture(url)\n",
    "            while(vid.isOpened()):\n",
    "                img,frame = vid.read()\n",
    "                frame = imutils.resize(frame,width=200)\n",
    "                a = pickle.dumps(frame)\n",
    "                message = struct.pack(\"Q\",len(a))+a\n",
    "                wclient_socket.sendall(message)\n",
    "            \n",
    "                cv2.imshow('TRANSMITTING VIDEO',frame)\n",
    "                key = cv2.waitKey(1) & 0xFF\n",
    "                if key ==ord('q'):\n",
    "                    wclient_socket.close()\n",
    "                    break\n",
    "    cv2.destroyAllWindows()\n",
    "    \n",
    "def recieve(data,payload_size):\n",
    "    while True:\n",
    "        while len(data) < payload_size:\n",
    "            packet = client_socket.recv(4*1024) \n",
    "            if not packet: break\n",
    "            data+=packet\n",
    "        packed_msg_size = data[:payload_size]\n",
    "        data = data[payload_size:]\n",
    "        msg_size = struct.unpack(\"Q\",packed_msg_size)[0]\n",
    "        while len(data) < msg_size:\n",
    "            data += client_socket.recv(4*1024)\n",
    "        frame_data = data[:msg_size]\n",
    "        data  = data[msg_size:]\n",
    "        frame = pickle.loads(frame_data)\n",
    "        frame = imutils.resize(frame,height=1020,width=640)\n",
    "        cv2.imshow(\"RECEIVING VIDEO\",frame)\n",
    "        key = cv2.waitKey(1) & 0xFF\n",
    "        if key  == ord('q'):\n",
    "            break\n",
    "    client_socket.close()\n",
    "    cv2.destroyAllWindows()"
   ]
  },
  {
   "cell_type": "code",
   "execution_count": 3,
   "metadata": {},
   "outputs": [],
   "source": [
    "# connect to windows socket\n",
    "client_socket = socket.socket(socket.AF_INET,socket.SOCK_STREAM)\n",
    "host_ip = '192.168.99.1' #IP Address of Host to be Entered \n",
    "port = 9999\n",
    "client_socket.connect((host_ip,port))"
   ]
  },
  {
   "cell_type": "code",
   "execution_count": 4,
   "metadata": {},
   "outputs": [],
   "source": [
    "# Create Socket\n",
    "client_socket2 = socket.socket(socket.AF_INET,socket.SOCK_STREAM)\n",
    "host_name  = socket.gethostname()\n",
    "host_ip = socket.gethostbyname(host_name)\n",
    "port2 = 6666\n",
    "socket_address = (host_ip,port2)\n",
    "client_socket2.bind(socket_address)"
   ]
  },
  {
   "cell_type": "code",
   "execution_count": 5,
   "metadata": {},
   "outputs": [
    {
     "name": "stdout",
     "output_type": "stream",
     "text": [
      "LISTENING AT: ('192.168.99.1', 6666)\n",
      "GOT CONNECTION FROM: ('192.168.99.1', 64744)\n"
     ]
    }
   ],
   "source": [
    "# Socket Listen and accept waiting to windows to connect\n",
    "client_socket2.listen(5)\n",
    "print(\"LISTENING AT:\",socket_address)\n",
    "wclient_socket,addr = client_socket2.accept()\n",
    "print('GOT CONNECTION FROM:',addr)"
   ]
  },
  {
   "cell_type": "code",
   "execution_count": 6,
   "metadata": {},
   "outputs": [
    {
     "name": "stderr",
     "output_type": "stream",
     "text": [
      "Exception in thread Thread-6:\n",
      "Traceback (most recent call last):\n",
      "  File \"C:\\Users\\sharm\\anaconda3\\lib\\threading.py\", line 932, in _bootstrap_inner\n",
      "    self.run()\n",
      "  File \"C:\\Users\\sharm\\anaconda3\\lib\\threading.py\", line 870, in run\n",
      "    self._target(*self._args, **self._kwargs)\n",
      "  File \"<ipython-input-2-4ce32bd7ad77>\", line 28, in recieve\n",
      "struct.error: unpack requires a buffer of 8 bytes\n",
      "Exception in thread Thread-7:\n",
      "Traceback (most recent call last):\n",
      "  File \"C:\\Users\\sharm\\anaconda3\\lib\\threading.py\", line 932, in _bootstrap_inner\n",
      "    self.run()\n",
      "  File \"C:\\Users\\sharm\\anaconda3\\lib\\threading.py\", line 870, in run\n",
      "    self._target(*self._args, **self._kwargs)\n",
      "  File \"<ipython-input-2-4ce32bd7ad77>\", line 11, in transmit\n",
      "ConnectionAbortedError: [WinError 10053] An established connection was aborted by the software in your host machine\n"
     ]
    }
   ],
   "source": [
    "data = b\"\"\n",
    "payload_size = struct.calcsize(\"Q\")\n",
    "x1=threading.Thread(target=recieve , args=(data , payload_size))\n",
    "x2=threading.Thread(target=transmit)\n",
    "x1.start()\n",
    "x2.start()"
   ]
  }
 ],
 "metadata": {
  "kernelspec": {
   "display_name": "Python 3",
   "language": "python",
   "name": "python3"
  },
  "language_info": {
   "codemirror_mode": {
    "name": "ipython",
    "version": 3
   },
   "file_extension": ".py",
   "mimetype": "text/x-python",
   "name": "python",
   "nbconvert_exporter": "python",
   "pygments_lexer": "ipython3",
   "version": "3.8.3"
  }
 },
 "nbformat": 4,
 "nbformat_minor": 5
}
